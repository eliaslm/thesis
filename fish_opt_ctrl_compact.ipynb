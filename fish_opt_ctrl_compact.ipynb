{
 "cells": [
  {
   "cell_type": "code",
   "execution_count": 1,
   "metadata": {},
   "outputs": [],
   "source": [
    "%matplotlib inline"
   ]
  },
  {
   "cell_type": "code",
   "execution_count": 2,
   "metadata": {},
   "outputs": [],
   "source": [
    "from fenics import *\n",
    "from fenics_adjoint import *\n",
    "import numpy as np\n",
    "from matplotlib import pyplot as plt\n",
    "from mpl_toolkits.axes_grid1 import make_axes_locatable\n",
    "import dolfin.fem.norms as norms\n",
    "from collections import OrderedDict\n",
    "import time\n",
    "\n",
    "\n",
    "# Local imports\n",
    "import state_eq as se\n",
    "import adjoint_eq as ae"
   ]
  },
  {
   "cell_type": "code",
   "execution_count": 3,
   "metadata": {},
   "outputs": [
    {
     "ename": "NameError",
     "evalue": "name 'element' is not defined",
     "output_type": "error",
     "traceback": [
      "\u001b[0;31m---------------------------------------------------------------------------\u001b[0m",
      "\u001b[0;31mNameError\u001b[0m                                 Traceback (most recent call last)",
      "\u001b[0;32m<ipython-input-3-53afb0e5b275>\u001b[0m in \u001b[0;36m<module>\u001b[0;34m\u001b[0m\n\u001b[1;32m      2\u001b[0m \u001b[0ma1\u001b[0m \u001b[0;34m=\u001b[0m \u001b[0;36m1e-01\u001b[0m\u001b[0;34m\u001b[0m\u001b[0;34m\u001b[0m\u001b[0m\n\u001b[1;32m      3\u001b[0m \u001b[0ma_tol\u001b[0m \u001b[0;34m=\u001b[0m \u001b[0;36m1e-14\u001b[0m\u001b[0;34m\u001b[0m\u001b[0;34m\u001b[0m\u001b[0m\n\u001b[0;32m----> 4\u001b[0;31m \u001b[0ma_exp\u001b[0m \u001b[0;34m=\u001b[0m \u001b[0mExpression\u001b[0m\u001b[0;34m(\u001b[0m\u001b[0;34m'sqrt(pow(x[0] - 0.3, 2) + pow(x[1] - 0.4, 2)) <= 0.2 + tol ? a0 : a1'\u001b[0m\u001b[0;34m,\u001b[0m \u001b[0melement\u001b[0m\u001b[0;34m=\u001b[0m\u001b[0melement\u001b[0m\u001b[0;34m,\u001b[0m \u001b[0ma0\u001b[0m\u001b[0;34m=\u001b[0m\u001b[0ma0\u001b[0m\u001b[0;34m,\u001b[0m \u001b[0ma1\u001b[0m\u001b[0;34m=\u001b[0m\u001b[0ma1\u001b[0m\u001b[0;34m,\u001b[0m \u001b[0mtol\u001b[0m\u001b[0;34m=\u001b[0m\u001b[0ma_tol\u001b[0m\u001b[0;34m)\u001b[0m\u001b[0;34m\u001b[0m\u001b[0;34m\u001b[0m\u001b[0m\n\u001b[0m\u001b[1;32m      5\u001b[0m \u001b[0ma_const\u001b[0m \u001b[0;34m=\u001b[0m \u001b[0minterpolate\u001b[0m\u001b[0;34m(\u001b[0m\u001b[0ma_exp\u001b[0m\u001b[0;34m,\u001b[0m \u001b[0mV\u001b[0m\u001b[0;34m)\u001b[0m\u001b[0;34m\u001b[0m\u001b[0;34m\u001b[0m\u001b[0m\n\u001b[1;32m      6\u001b[0m \u001b[0mrho\u001b[0m \u001b[0;34m=\u001b[0m \u001b[0;36m0.0\u001b[0m\u001b[0;34m\u001b[0m\u001b[0;34m\u001b[0m\u001b[0m\n",
      "\u001b[0;31mNameError\u001b[0m: name 'element' is not defined"
     ]
    }
   ],
   "source": [
    "a0 = 1.0\n",
    "a1 = 1e-01\n",
    "a_tol = 1e-14\n",
    "a_exp = Expression('sqrt(pow(x[0] - 0.3, 2) + pow(x[1] - 0.4, 2)) <= 0.2 + tol ? a0 : a1', element=element, a0=a0, a1=a1, tol=a_tol)\n",
    "a_const = interpolate(a_exp, V)\n",
    "rho = 0.0\n",
    "lambda_ = 1.4\n",
    "alpha = 1e-05\n",
    "r = project(Expression(\"0.01*sqrt(pow(x[0],2) + pow(x[1], 2))\", element=element), V)\n",
    "\n",
    "params = {\n",
    "    \"rho\": rho,\n",
    "    \"lambda_\": lambda_,\n",
    "    \"r\": r,\n",
    "    \"alpha\": alpha,\n",
    "    \"a\": a_const\n",
    "}"
   ]
  },
  {
   "cell_type": "code",
   "execution_count": 4,
   "metadata": {},
   "outputs": [],
   "source": [
    "# --- Define mesh and function space ---\n",
    "\n",
    "# Set time parameters\n",
    "T = 4.0\n",
    "num_steps = 100\n",
    "dt = Constant(T/num_steps)\n",
    "\n",
    "# Define function space\n",
    "nx = 50\n",
    "ny = 50\n",
    "mesh = UnitSquareMesh(nx,ny)\n",
    "\n",
    "V = FunctionSpace(mesh, \"CG\", 1)\n",
    "W = FunctionSpace(mesh, \"CG\", 1)\n",
    "\n",
    "u_n = Function(V, name=\"Solution\")\n",
    "q = Function(W, name=\"Control\")\n",
    "u = Function(V)\n",
    "phi = TestFunction(V)\n",
    "\n",
    "ctrls = OrderedDict()\n",
    "t = 0.0\n",
    "ctrls[t] = Function(V)\n",
    "for i in range(num_steps):\n",
    "    t += float(dt)\n",
    "    ctrls[t] = Function(V)"
   ]
  },
  {
   "cell_type": "code",
   "execution_count": 5,
   "metadata": {},
   "outputs": [],
   "source": [
    "element = FiniteElement(\"CG\", triangle, 1)"
   ]
  },
  {
   "cell_type": "code",
   "execution_count": 6,
   "metadata": {},
   "outputs": [],
   "source": [
    "# --- Do one solve of the State Equation and assemble Cost Functional ---\n",
    "\n",
    "# Params\n",
    "\"\"\"a_const = params[\"a\"]\n",
    "rho = params[\"rho\"]\n",
    "lambda_ = params[\"lambda_\"]\n",
    "r = params[\"r\"]\n",
    "alpha = params[\"alpha\"]\"\"\"\n",
    "\n",
    "# Params to replicate results from paper\n",
    "a0 = 1.0\n",
    "a1 = 1e-01\n",
    "a_tol = 1e-14\n",
    "a_exp = Expression('sqrt(pow(x[0] - 0.3, 2) + pow(x[1] - 0.4, 2)) <= 0.2 + tol ? a0 : a1', element=element, a0=a0, a1=a1, tol=a_tol)\n",
    "a_const = interpolate(a_exp, V)\n",
    "rho = 0.0\n",
    "lambda_ = 1.4\n",
    "alpha = 1e-05\n",
    "r = project(Expression(\"0.01*sqrt(pow(x[0],2) + pow(x[1], 2))\", element=element), V)\n",
    "\n",
    "# Box constraints\n",
    "q_min = 0.0\n",
    "q_max = 1.0\n",
    "\n",
    "# State\n",
    "u_0 = Constant(0.7)  #Expression('b*exp(-a*(pow(x[0]-0.25, 2) + pow(x[1]-0.25, 2)))', element=element, a=10, b=20)\n",
    "u_n.assign(project(u_0, V))\n",
    "\n",
    "# Variational form\n",
    "a = u*phi*dx + dt*(inner(grad(u), grad(phi))*dx + u_n*u*phi*dx - a_const*u*phi*dx + q*u*phi*dx)\n",
    "l = u_n*phi*dx\n",
    "\n",
    "F = a - l\n",
    "\n",
    "\n",
    "t = 0.0\n",
    "q.assign(ctrls[t])\n",
    "f = float(np.exp(-1*rho*t))\n",
    "j = 0.5*float(dt)*f*assemble(q*(r-u_n)*dx) + 0.5*float(dt)*alpha*assemble(inner(q, q)*dx)/2\n",
    "\n",
    "t = float(dt)\n",
    "for i in range(num_steps):\n",
    "    q.assign(ctrls[t])\n",
    "    \n",
    "    solve(F == 0, u)\n",
    "    u_n.assign(u)\n",
    "    \n",
    "    if t > T - float(dt):\n",
    "        weight = 0.5\n",
    "    else:\n",
    "        weight = 1\n",
    "        \n",
    "    f = float(np.exp(-1*rho*t))\n",
    "    j += weight*float(dt)*f*assemble(q*(r-u_n)*dx) + weight*float(dt)*alpha*assemble(q*q*dx)/2\n",
    "\n",
    "    t += float(dt)\n",
    "    \n",
    "j += -1*lambda_*assemble(u_n*dx)"
   ]
  },
  {
   "cell_type": "code",
   "execution_count": 7,
   "metadata": {},
   "outputs": [
    {
     "data": {
      "text/plain": [
       "4.040000000000003"
      ]
     },
     "execution_count": 7,
     "metadata": {},
     "output_type": "execute_result"
    }
   ],
   "source": [
    "t"
   ]
  },
  {
   "cell_type": "code",
   "execution_count": 8,
   "metadata": {},
   "outputs": [
    {
     "name": "stdout",
     "output_type": "stream",
     "text": [
      "------ Ready to optimize ------\n",
      "Calling FFC just-in-time (JIT) compiler, this may take some time.\n",
      "Optimization terminated\n",
      "Time taken to find local optimum: 21.07 s\n"
     ]
    }
   ],
   "source": [
    "m = [Control(c) for c in ctrls.values()]\n",
    "lb = [q_min for i in range(len(m))]\n",
    "ub = [q_max for i in range(len(m))]\n",
    "bounds = [lb, ub]\n",
    "\n",
    "rf = ReducedFunctional(j, m)\n",
    "\n",
    "print(\"-\"*6 + \" Ready to optimize \" + \"-\"*6)\n",
    "\n",
    "start_time = time.time()\n",
    "opt_ctrls = minimize(rf, bounds=bounds, options={\"maxiter\": 50})\n",
    "end_time = time.time()\n",
    "delta = end_time - start_time\n",
    "\n",
    "print(\"Optimization terminated\")\n",
    "print(\"Time taken to find local optimum: {} s\".format(round(delta, 2)))"
   ]
  },
  {
   "cell_type": "code",
   "execution_count": 9,
   "metadata": {},
   "outputs": [
    {
     "data": {
      "text/plain": [
       "(101, 4.040000000000003, 4.0)"
      ]
     },
     "execution_count": 9,
     "metadata": {},
     "output_type": "execute_result"
    }
   ],
   "source": [
    "len(opt_ctrls), t, T"
   ]
  },
  {
   "cell_type": "code",
   "execution_count": 10,
   "metadata": {},
   "outputs": [
    {
     "data": {
      "text/plain": [
       "<matplotlib.tri.tricontour.TriContourSet at 0x12c24e470>"
      ]
     },
     "execution_count": 10,
     "metadata": {},
     "output_type": "execute_result"
    },
    {
     "data": {
      "image/png": "[encoded data removed]",
      "text/plain": [
       "<Figure size 432x288 with 1 Axes>"
      ]
     },
     "metadata": {
      "needs_background": "light"
     },
     "output_type": "display_data"
    }
   ],
   "source": [
    "plot(opt_ctrls[10])"
   ]
  },
  {
   "cell_type": "code",
   "execution_count": 11,
   "metadata": {},
   "outputs": [
    {
     "name": "stdout",
     "output_type": "stream",
     "text": [
      "0.0 0.0\n",
      "0.0 0.0\n",
      "0.0 0.0\n",
      "0.0 0.0\n",
      "0.0 0.0\n"
     ]
    }
   ],
   "source": [
    "for indx in [5, 44, 50, 78, 99]:\n",
    "    print(opt_ctrls[indx].vector().min(), opt_ctrls[indx].vector().max())"
   ]
  },
  {
   "cell_type": "code",
   "execution_count": 12,
   "metadata": {},
   "outputs": [
    {
     "data": {
      "text/plain": [
       "<matplotlib.tri.tricontour.TriContourSet at 0x13120a390>"
      ]
     },
     "execution_count": 12,
     "metadata": {},
     "output_type": "execute_result"
    },
    {
     "data": {
      "image/png": "[encoded data removed]",
      "text/plain": [
       "<Figure size 432x288 with 1 Axes>"
      ]
     },
     "metadata": {
      "needs_background": "light"
     },
     "output_type": "display_data"
    }
   ],
   "source": [
    "plot(opt_ctrls[0])"
   ]
  },
  {
   "cell_type": "code",
   "execution_count": 13,
   "metadata": {},
   "outputs": [
    {
     "name": "stdout",
     "output_type": "stream",
     "text": [
      "4.040000000000003\n"
     ]
    }
   ],
   "source": [
    "print(t)"
   ]
  },
  {
   "cell_type": "code",
   "execution_count": 14,
   "metadata": {},
   "outputs": [
    {
     "data": {
      "text/plain": [
       "<matplotlib.tri.tricontour.TriContourSet at 0x1223a8208>"
      ]
     },
     "execution_count": 14,
     "metadata": {},
     "output_type": "execute_result"
    },
    {
     "data": {
      "image/png": "[encoded data removed]",
      "text/plain": [
       "<Figure size 432x288 with 1 Axes>"
      ]
     },
     "metadata": {
      "needs_background": "light"
     },
     "output_type": "display_data"
    }
   ],
   "source": [
    "plot(u_n)"
   ]
  },
  {
   "cell_type": "code",
   "execution_count": 15,
   "metadata": {},
   "outputs": [
    {
     "data": {
      "image/png": "[encoded data removed]",
      "text/plain": [
       "<Figure size 432x288 with 1 Axes>"
      ]
     },
     "metadata": {
      "needs_background": "light"
     },
     "output_type": "display_data"
    }
   ],
   "source": [
    "x = [c((0.25, 0.25)) for c in opt_ctrls]\n",
    "plt.plot(x)\n",
    "plt.show()"
   ]
  },
  {
   "cell_type": "code",
   "execution_count": null,
   "metadata": {},
   "outputs": [],
   "source": [
    "U = se.solve_state_eq(u_0, opt_ctrls, V, T, num_steps, params)"
   ]
  },
  {
   "cell_type": "code",
   "execution_count": null,
   "metadata": {},
   "outputs": [],
   "source": [
    "se.plot_states_and_control(U, opt_ctrls, T, num_steps, num_plots=5)"
   ]
  },
  {
   "cell_type": "code",
   "execution_count": null,
   "metadata": {},
   "outputs": [],
   "source": [
    "plot(a_const)"
   ]
  },
  {
   "cell_type": "code",
   "execution_count": null,
   "metadata": {},
   "outputs": [],
   "source": [
    "plot(interpolate(a_exp, V))"
   ]
  }
 ],
 "metadata": {
  "kernelspec": {
   "display_name": "Python 3",
   "language": "python",
   "name": "python3"
  },
  "language_info": {
   "codemirror_mode": {
    "name": "ipython",
    "version": 3
   },
   "file_extension": ".py",
   "mimetype": "text/x-python",
   "name": "python",
   "nbconvert_exporter": "python",
   "pygments_lexer": "ipython3",
   "version": "3.7.3"
  }
 },
 "nbformat": 4,
 "nbformat_minor": 4
}
