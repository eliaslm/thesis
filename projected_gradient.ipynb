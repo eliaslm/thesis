{
 "cells": [
  {
   "cell_type": "code",
   "execution_count": 1,
   "metadata": {},
   "outputs": [],
   "source": [
    "%matplotlib inline"
   ]
  },
  {
   "cell_type": "code",
   "execution_count": 2,
   "metadata": {},
   "outputs": [],
   "source": [
    "from fenics import *\n",
    "import numpy as np\n",
    "from matplotlib import pyplot as plt\n",
    "from mpl_toolkits.axes_grid1 import make_axes_locatable\n",
    "\n",
    "\n",
    "# Local imports\n",
    "import state_eq as se\n",
    "import adjoint_eq as ae"
   ]
  },
  {
   "cell_type": "markdown",
   "metadata": {},
   "source": [
    "## Projected gradient method\n",
    "1) Initialize $q_0 \\in \\mathcal{Q}_{ad}$, set $k = 0$ \n",
    "\n",
    "2) Compute $u_k, p_k$ as solutions to (SE) and (AE) respectively\n",
    "\n",
    "3) Define $\\nu_k := - j'(q_k)$\n",
    "\n",
    "4) Compute step length $s_k$, e.g. using the Armijo condition:     $$j(q_k + s_k \\nu_k) = \\min_{s > 0} j(q_k + s \\nu_k)$$\n",
    "    \n",
    "5) Set $u_k = \\mathcal{P}_{[q_a, q_b]} \\{u_k + s_k \\nu_k \\}$\n"
   ]
  },
  {
   "cell_type": "code",
   "execution_count": 3,
   "metadata": {},
   "outputs": [],
   "source": [
    "def j(U, Q, mesh, T, num_steps):\n",
    "    \"\"\"\n",
    "    Function to evaluate the cost functional given functions u, q.\n",
    "    \"\"\"\n",
    "    \n",
    "    # Define parameters for cost functional\n",
    "    rho = 5.0\n",
    "    lambda_ = 10.0\n",
    "    r = 2.0\n",
    "    alpha = 15.0\n",
    "    \n",
    "    # Compute integrals with time\n",
    "    I1 = 0\n",
    "    I3 = 0\n",
    "    \n",
    "    t = 0\n",
    "    dt = T/num_steps\n",
    "    for i in range(num_steps):\n",
    "        I1_int = assemble(Q[i]*(r-U[i])*dx(mesh))*np.exp(-rho*t)\n",
    "        I3_int = assemble(Q[i]*Q[i]*dx(mesh))\n",
    "        \n",
    "        if i == 0 or i == num_steps - 1:\n",
    "            I1_int *= 0.5\n",
    "            I3_int *= 0.5\n",
    "        \n",
    "        I1 += I1_int\n",
    "        I3 += I3_int\n",
    "        \n",
    "        t += dt\n",
    "    \n",
    "    assert t == T, \"End time not reached\"\n",
    "    \n",
    "    I1 *= dt\n",
    "    I3 *= dt*alpha/2\n",
    "    \n",
    "    # Compute end time integral\n",
    "    I2 = lambda_*assemble(U[-1]*dx(mesh))\n",
    "    \n",
    "    return I1 - I2 + I3"
   ]
  },
  {
   "cell_type": "code",
   "execution_count": 4,
   "metadata": {},
   "outputs": [],
   "source": [
    "def dj(U, Q, P, T, num_steps):\n",
    "    \"\"\"\n",
    "    Function to compute gradient of cost functional.\n",
    "    \"\"\"\n",
    "    \n",
    "    # Parameters\n",
    "    rho = 5.0\n",
    "    r = 2.0\n",
    "    alpha = 15.0\n",
    "    \n",
    "    grad = []\n",
    "    \n",
    "    t = 0\n",
    "    dt = T/num_steps\n",
    "    for i in range(num_steps):\n",
    "        grad.append(np.exp(-1*rho*t)*(r - U[i]) + alpha*Q[i] - U[i]*P[i])\n",
    "        t += dt\n",
    "        \n",
    "    return grad"
   ]
  },
  {
   "cell_type": "code",
   "execution_count": 5,
   "metadata": {},
   "outputs": [],
   "source": [
    "# --- Specify parameters ---\n",
    "\n",
    "params = {\n",
    "    \"rho\": 5.0,\n",
    "    \"lambda_\": 10.0,\n",
    "    \"r\": 2.0,\n",
    "    \"alpha\": 15.0,\n",
    "    \"a\": Constant(10)\n",
    "}\n",
    "\n",
    "# rho = 5.0\n",
    "lambda_ = 10.0\n",
    "# r = 2.0\n",
    "# alpha = 15.0\n",
    "# a = Constant(10)"
   ]
  },
  {
   "cell_type": "code",
   "execution_count": 6,
   "metadata": {},
   "outputs": [],
   "source": [
    "# --- Define mesh and function space ---\n",
    "\n",
    "# Set time parameters\n",
    "T = 2.0\n",
    "num_steps = 100\n",
    "dt = T/num_steps\n",
    "\n",
    "# Define function space\n",
    "nx = 50\n",
    "ny = 50\n",
    "mesh = UnitSquareMesh(nx,ny)\n",
    "V = FunctionSpace(mesh, 'P', 1)"
   ]
  },
  {
   "cell_type": "code",
   "execution_count": 7,
   "metadata": {},
   "outputs": [],
   "source": [
    "# --- Initialization ---\n",
    "\n",
    "# State\n",
    "u_0 = Expression('b*exp(-a*(pow(x[0]-0.25, 2) + pow(x[1]-0.25, 2)))', degree=2, a=10, b=20)\n",
    "u_n = interpolate(u_0, V)\n",
    "\n",
    "# Control\n",
    "str1 = 'b*exp(-a*pow(x[0] - (0.5 - 0.25*sin(3.14*t)), 2) - a*pow(x[1] - (0.5 - 0.25*cos(3.14*t)), 2)) + '\n",
    "str2 = 'b*exp(-a*pow(x[0] - (0.5 + 0.25*sin(3.14*t)), 2) - a*pow(x[1] - (0.5 + 0.25*cos(3.14*t)), 2))'\n",
    "string = str1 + str2\n",
    "q = Expression(string, degree=2, a=50, b=10, t=0)\n",
    "t = 0\n",
    "Q = [interpolate(q, V)]\n",
    "for i in range(num_steps):\n",
    "    t += dt\n",
    "    q.t = t\n",
    "    Q.append(interpolate(q, V))\n",
    "\n",
    "\n",
    "# Adjoint variable\n",
    "p_end = Constant(-1*lambda_)\n",
    "p_n = interpolate(p_end, V)"
   ]
  },
  {
   "cell_type": "code",
   "execution_count": 8,
   "metadata": {},
   "outputs": [],
   "source": [
    "U = se.solve_state_eq(u_0, Q, V, T, num_steps, params)"
   ]
  },
  {
   "cell_type": "code",
   "execution_count": 9,
   "metadata": {},
   "outputs": [],
   "source": [
    "P = ae.solve_adjoint_eq(p_end, U, Q, V, T, num_steps, params)"
   ]
  },
  {
   "cell_type": "code",
   "execution_count": null,
   "metadata": {},
   "outputs": [],
   "source": []
  }
 ],
 "metadata": {
  "kernelspec": {
   "display_name": "Python 3",
   "language": "python",
   "name": "python3"
  },
  "language_info": {
   "codemirror_mode": {
    "name": "ipython",
    "version": 3
   },
   "file_extension": ".py",
   "mimetype": "text/x-python",
   "name": "python",
   "nbconvert_exporter": "python",
   "pygments_lexer": "ipython3",
   "version": "3.7.3"
  }
 },
 "nbformat": 4,
 "nbformat_minor": 4
}
