{
 "cells": [
  {
   "cell_type": "code",
   "execution_count": 1,
   "metadata": {},
   "outputs": [],
   "source": [
    "%matplotlib inline"
   ]
  },
  {
   "cell_type": "code",
   "execution_count": 2,
   "metadata": {},
   "outputs": [],
   "source": [
    "from fenics import *\n",
    "import numpy as np\n",
    "from matplotlib import pyplot as plt\n",
    "from mpl_toolkits.axes_grid1 import make_axes_locatable"
   ]
  },
  {
   "cell_type": "markdown",
   "metadata": {},
   "source": [
    "## Projected gradient method\n",
    "1) Initialize $q_0 \\in \\mathcal{Q}_{ad}$, set $k = 0$ \n",
    "\n",
    "2) Compute $u_k, p_k$ as solutions to (SE) and (AE) respectively\n",
    "\n",
    "3) Define $\\nu_k := - j'(q_k)$\n",
    "\n",
    "4) Compute step length $s_k$, e.g. using the Armijo condition:     $$j(q_k + s_k \\nu_k) = \\min_{s > 0} j(q_k + s \\nu_k)$$\n",
    "    \n",
    "5) Set $u_k = \\mathcal{P}_{[q_a, q_b]} \\{u_k + s_k \\nu_k \\}$\n"
   ]
  },
  {
   "cell_type": "code",
   "execution_count": 1,
   "metadata": {},
   "outputs": [],
   "source": [
    "def j(U, Q, mesh, T, num_steps):\n",
    "    \"\"\"\n",
    "    Function to evaluate the cost functional given functions u, q.\n",
    "    \"\"\"\n",
    "    # Define parameters for cost functional\n",
    "    rho = 5.0\n",
    "    lambda_ = 10.0\n",
    "    r = 2.0\n",
    "    alpha = 15.0\n",
    "    \n",
    "    # Compute integrals with time\n",
    "    I1 = 0\n",
    "    I3 = 0\n",
    "    \n",
    "    t = 0\n",
    "    dt = T/num_steps\n",
    "    for i in range(num_steps):\n",
    "        I1_int = assemble(Q[i]*(r-U[i])*dx(mesh))*np.exp(-rho*t)\n",
    "        I3_int = assemble(Q[i]*Q[i]*dx(mesh))\n",
    "        \n",
    "        if i == 0 or i == num_steps - 1:\n",
    "            I1_int *= 0.5\n",
    "            I3_int *= 0.5\n",
    "        \n",
    "        I1 += I1_int\n",
    "        I3 += I3_int\n",
    "        \n",
    "        t += dt\n",
    "    \n",
    "    assert t == T, \"End time not reached\"\n",
    "    \n",
    "    I1 *= dt\n",
    "    I3 *= dt*alpha/2\n",
    "    \n",
    "    # Compute end time integral\n",
    "    I2 = lambda_*assemble(U[-1]*dx(mesh))\n",
    "    \n",
    "    return I1 - I2 + I3"
   ]
  },
  {
   "cell_type": "code",
   "execution_count": null,
   "metadata": {},
   "outputs": [],
   "source": [
    "def dj():\n",
    "    pass"
   ]
  }
 ],
 "metadata": {
  "kernelspec": {
   "display_name": "Python 3",
   "language": "python",
   "name": "python3"
  },
  "language_info": {
   "codemirror_mode": {
    "name": "ipython",
    "version": 3
   },
   "file_extension": ".py",
   "mimetype": "text/x-python",
   "name": "python",
   "nbconvert_exporter": "python",
   "pygments_lexer": "ipython3",
   "version": "3.7.3"
  }
 },
 "nbformat": 4,
 "nbformat_minor": 4
}
