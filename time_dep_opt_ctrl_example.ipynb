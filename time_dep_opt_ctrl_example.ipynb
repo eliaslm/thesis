{
 "cells": [
  {
   "cell_type": "code",
   "execution_count": 1,
   "metadata": {},
   "outputs": [],
   "source": [
    "%matplotlib inline"
   ]
  },
  {
   "cell_type": "code",
   "execution_count": 2,
   "metadata": {},
   "outputs": [],
   "source": [
    "from fenics import *\n",
    "from dolfin_adjoint import *\n",
    "from collections import OrderedDict\n",
    "from matplotlib import pyplot as plt\n",
    "import numpy as np"
   ]
  },
  {
   "cell_type": "code",
   "execution_count": 3,
   "metadata": {},
   "outputs": [],
   "source": [
    "data = Expression(\"16*x[0]*(x[0]-1)*x[1]*(x[1]-1)*sin(pi*t)\", t=0, degree=4)\n",
    "nu = Constant(1e-5)"
   ]
  },
  {
   "cell_type": "code",
   "execution_count": 4,
   "metadata": {},
   "outputs": [],
   "source": [
    "mesh = UnitSquareMesh(8, 8)\n",
    "V = FunctionSpace(mesh, \"CG\", 1)"
   ]
  },
  {
   "cell_type": "code",
   "execution_count": 5,
   "metadata": {},
   "outputs": [],
   "source": [
    "dt = Constant(0.1)\n",
    "T = 2"
   ]
  },
  {
   "cell_type": "code",
   "execution_count": 6,
   "metadata": {},
   "outputs": [],
   "source": [
    "ctrls = OrderedDict()\n",
    "t = float(dt)\n",
    "while t <= T:\n",
    "    ctrls[t] = Function(V)\n",
    "    t += float(dt)"
   ]
  },
  {
   "cell_type": "code",
   "execution_count": 7,
   "metadata": {},
   "outputs": [],
   "source": [
    "def solve_heat(ctrls):\n",
    "    u = TrialFunction(V)\n",
    "    v = TestFunction(V)\n",
    "\n",
    "    f = Function(V, name=\"source\")\n",
    "    u_0 = Function(V, name=\"solution\")\n",
    "    d = Function(V, name=\"data\")\n",
    "\n",
    "    F = ( (u - u_0)/dt*v + nu*inner(grad(u), grad(v)) - f*v)*dx\n",
    "    a, L = lhs(F), rhs(F)\n",
    "    bc = DirichletBC(V, 0, \"on_boundary\")\n",
    "\n",
    "    t = float(dt)\n",
    "\n",
    "    j = 0.5*float(dt)*assemble((u_0 - d)**2*dx)\n",
    "\n",
    "    while t <= T:\n",
    "        # Update source term from control array\n",
    "        f.assign(ctrls[t])\n",
    "\n",
    "        # Update data function\n",
    "        data.t = t\n",
    "        d.assign(interpolate(data, V))\n",
    "\n",
    "        # Solve PDE\n",
    "        solve(a == L, u_0, bc)\n",
    "\n",
    "        # Implement a trapezoidal rule\n",
    "        if t > T - float(dt):\n",
    "           weight = 0.5\n",
    "        else:\n",
    "           weight = 1\n",
    "\n",
    "        j += weight*float(dt)*assemble((u_0 - d)**2*dx)\n",
    "\n",
    "        # Update time\n",
    "        t += float(dt)\n",
    "\n",
    "    return u_0, d, j"
   ]
  },
  {
   "cell_type": "code",
   "execution_count": 8,
   "metadata": {},
   "outputs": [],
   "source": [
    "u, d, j = solve_heat(ctrls)"
   ]
  },
  {
   "cell_type": "code",
   "execution_count": 9,
   "metadata": {},
   "outputs": [],
   "source": [
    "alpha = Constant(1e-1)\n",
    "regularisation = alpha/2*sum([1/dt*(fb-fa)**2*dx for fb, fa in\n",
    "    zip(list(ctrls.values())[1:], list(ctrls.values())[:-1])])"
   ]
  },
  {
   "cell_type": "code",
   "execution_count": 10,
   "metadata": {},
   "outputs": [],
   "source": [
    "J = j + assemble(regularisation)\n",
    "m = [Control(c) for c in ctrls.values()]"
   ]
  },
  {
   "cell_type": "code",
   "execution_count": 11,
   "metadata": {},
   "outputs": [],
   "source": [
    "rf = ReducedFunctional(J, m)\n",
    "opt_ctrls = minimize(rf, options={\"maxiter\": 50})"
   ]
  },
  {
   "cell_type": "code",
   "execution_count": 19,
   "metadata": {},
   "outputs": [
    {
     "data": {
      "image/png": "[encoded data removed]",
      "text/plain": [
       "<Figure size 432x288 with 1 Axes>"
      ]
     },
     "metadata": {
      "needs_background": "light"
     },
     "output_type": "display_data"
    }
   ],
   "source": [
    "x = [c((0.5, 0.5)) for c in opt_ctrls]\n",
    "plt.plot(x, label=r\"$\\alpha={}$\".format(float(alpha)))\n",
    "plt.ylim([-3, 3])\n",
    "plt.legend()\n",
    "plt.show()"
   ]
  },
  {
   "cell_type": "code",
   "execution_count": 13,
   "metadata": {},
   "outputs": [
    {
     "data": {
      "image/png": "[encoded data removed]",
      "text/plain": [
       "<Figure size 432x288 with 1 Axes>"
      ]
     },
     "metadata": {
      "needs_background": "light"
     },
     "output_type": "display_data"
    }
   ],
   "source": [
    "xl = np.linspace(0, 10, 100)\n",
    "f = lambda x: x**2\n",
    "plt.figure()\n",
    "plt.plot(xl, f(xl))\n",
    "plt.show()"
   ]
  },
  {
   "cell_type": "code",
   "execution_count": 25,
   "metadata": {},
   "outputs": [
    {
     "data": {
      "text/plain": [
       "0.1"
      ]
     },
     "execution_count": 25,
     "metadata": {},
     "output_type": "execute_result"
    }
   ],
   "source": [
    "float(dt)"
   ]
  },
  {
   "cell_type": "code",
   "execution_count": 39,
   "metadata": {},
   "outputs": [
    {
     "data": {
      "text/plain": [
       "0.0"
      ]
     },
     "execution_count": 39,
     "metadata": {},
     "output_type": "execute_result"
    }
   ],
   "source": [
    "u.vector().max()"
   ]
  },
  {
   "cell_type": "code",
   "execution_count": 33,
   "metadata": {},
   "outputs": [
    {
     "data": {
      "text/plain": [
       "19"
      ]
     },
     "execution_count": 33,
     "metadata": {},
     "output_type": "execute_result"
    }
   ],
   "source": [
    "len(ctrls)"
   ]
  },
  {
   "cell_type": "code",
   "execution_count": 34,
   "metadata": {},
   "outputs": [
    {
     "data": {
      "text/plain": [
       "1.9000000000000001"
      ]
     },
     "execution_count": 34,
     "metadata": {},
     "output_type": "execute_result"
    }
   ],
   "source": [
    "19*float(dt)"
   ]
  }
 ],
 "metadata": {
  "kernelspec": {
   "display_name": "Python 3",
   "language": "python",
   "name": "python3"
  },
  "language_info": {
   "codemirror_mode": {
    "name": "ipython",
    "version": 3
   },
   "file_extension": ".py",
   "mimetype": "text/x-python",
   "name": "python",
   "nbconvert_exporter": "python",
   "pygments_lexer": "ipython3",
   "version": "3.7.3"
  }
 },
 "nbformat": 4,
 "nbformat_minor": 4
}
