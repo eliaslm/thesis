{
 "cells": [
  {
   "cell_type": "code",
   "execution_count": 1,
   "metadata": {},
   "outputs": [],
   "source": [
    "%matplotlib inline"
   ]
  },
  {
   "cell_type": "code",
   "execution_count": 2,
   "metadata": {},
   "outputs": [],
   "source": [
    "from fenics import *\n",
    "import numpy as np\n",
    "from matplotlib import pyplot as plt\n",
    "from mpl_toolkits.axes_grid1 import make_axes_locatable\n",
    "import dolfin.fem.norms as norms\n",
    "\n",
    "\n",
    "# Local imports\n",
    "import modules"
   ]
  },
  {
   "cell_type": "code",
   "execution_count": 3,
   "metadata": {},
   "outputs": [],
   "source": [
    "def j(U, Q):\n",
    "    \"\"\"\n",
    "    Function to evaluate the cost functional given functions u, q.\n",
    "    \"\"\"\n",
    "    # Compute integrals with time\n",
    "    I1 = 0\n",
    "    I3 = 0\n",
    "    \n",
    "    t = 0\n",
    "    dt = T/num_steps\n",
    "    for i in range(num_steps + 1):\n",
    "        I1_int = assemble(Q[i]*(r-U[i])*dx(mesh))*np.exp(-rho*t)\n",
    "        I3_int = assemble(Q[i]*Q[i]*dx(mesh))\n",
    "        \n",
    "        if i == 0 or i == num_steps - 1:\n",
    "            I1_int *= 0.5\n",
    "            I3_int *= 0.5\n",
    "        \n",
    "        I1 += I1_int\n",
    "        I3 += I3_int\n",
    "        \n",
    "        t += dt\n",
    "    \n",
    "    \n",
    "    I1 *= dt\n",
    "    I3 *= dt*alpha/2\n",
    "    \n",
    "    # Compute end time integral\n",
    "    I2 = lambda_*assemble(U[-1]*dx(mesh))\n",
    "    \n",
    "    return I1 - I2 + I3"
   ]
  },
  {
   "cell_type": "code",
   "execution_count": 4,
   "metadata": {},
   "outputs": [],
   "source": [
    "def j_reduced(Q):\n",
    "    \"\"\"Reduced cost functional.\"\"\"\n",
    "    U = se.solve_state_eq(u_0, Q, V, T, num_steps, params)\n",
    "    return j(U, Q)"
   ]
  },
  {
   "cell_type": "code",
   "execution_count": 5,
   "metadata": {},
   "outputs": [],
   "source": [
    "def dj(U, Q, P):\n",
    "    \"\"\"\n",
    "    Function to compute gradient of cost functional.\n",
    "    \"\"\"\n",
    "    grad = []\n",
    "    \n",
    "    t = 0\n",
    "    dt = T/num_steps\n",
    "    for i in range(num_steps + 1):\n",
    "        grad.append(np.exp(-1*rho*t)*(r - U[i]) + alpha*Q[i] - U[i]*P[i])\n",
    "        t += dt\n",
    "    \n",
    "    grad = np.asarray(grad)\n",
    "    \n",
    "    return grad"
   ]
  },
  {
   "cell_type": "code",
   "execution_count": 6,
   "metadata": {},
   "outputs": [],
   "source": [
    "def grad_norm(grad):\n",
    "    \"\"\"Compute norm of gradient.\"\"\"\n",
    "    norm_ = 0\n",
    "    dt = T/num_steps\n",
    "    \n",
    "    for i in range(len(grad)):\n",
    "        f = project(grad[i], V)\n",
    "        int_ = norms.norm(f, \"l2\")\n",
    "        \n",
    "        if i == 0 or i == len(grad) - 1:\n",
    "            int_ *= 0.5\n",
    "            \n",
    "        norm_ += int_\n",
    "    norm_ *= dt\n",
    "    \n",
    "    return np.sqrt(norm_)"
   ]
  },
  {
   "cell_type": "code",
   "execution_count": 7,
   "metadata": {},
   "outputs": [],
   "source": [
    "def armijo(v_k, U, Q, P):\n",
    "    \"\"\"Compute step length based on Armijo condition.\"\"\"\n",
    "    alpha = 1\n",
    "    rho = 0.5\n",
    "    c = 0.05\n",
    "    \n",
    "    phi_0 = j(U, Q)\n",
    "    phi_k = j_reduced(Q + alpha*v_k)\n",
    "    m = -1*grad_norm(v_k)**2\n",
    "    it = 0\n",
    "    while phi_k >= phi_0 + alpha*c*m and it < 20:\n",
    "        alpha *= rho\n",
    "        phi_k = j_reduced(Q + alpha*v_k)\n",
    "        it += 1\n",
    "        \n",
    "        print(\"\\n\" + \"=\"*6 + \" Bactracking Line Search iteration no. {} \".format(it) + \"=\"*6 + \"\\n\")\n",
    "        \n",
    "    return [Constant(alpha), phi_k]"
   ]
  },
  {
   "cell_type": "code",
   "execution_count": 8,
   "metadata": {},
   "outputs": [],
   "source": [
    "def Max(a, b):\n",
    "    return (a + b + abs(a-b))/Constant(2)\n",
    "\n",
    "\n",
    "def Min(a, b):\n",
    "    return (a + b - abs(a-b))/Constant(2)\n",
    "\n",
    "\n",
    "def project_to_admissible(Q, q_min, q_max):\n",
    "    for i in range(len(Q)):\n",
    "        proj = Max(q_min, Min(Q[i], q_max))\n",
    "        Q[i] = project(proj, V)\n",
    "    return Q"
   ]
  },
  {
   "cell_type": "markdown",
   "metadata": {},
   "source": [
    "### Execute program"
   ]
  },
  {
   "cell_type": "code",
   "execution_count": 9,
   "metadata": {},
   "outputs": [],
   "source": [
    "# --- Define mesh and function space ---\n",
    "\n",
    "# Set time parameters\n",
    "T = 4.0\n",
    "num_steps = 100\n",
    "dt = T/num_steps\n",
    "\n",
    "# Define function space\n",
    "nx = 32\n",
    "ny = 32\n",
    "mesh = UnitSquareMesh(nx,ny)\n",
    "V = FunctionSpace(mesh, 'CG', 1)\n",
    "\n",
    "# --- Specify parameters ---\n",
    "\n",
    "element = FiniteElement(\"CG\", triangle, 1)\n",
    "\n",
    "q_min = Constant(0.0)\n",
    "q_max = Constant(1.0)\n",
    "\n",
    "a0 = 1.0\n",
    "a1 = 1e-01\n",
    "a_tol = 1e-14\n",
    "a_exp = Expression('sqrt(pow(x[0] - 0.3, 2) + pow(x[1] - 0.4, 2)) <= 0.2 + tol ? a0 : a1', element=element, a0=a0, a1=a1, tol=a_tol)\n",
    "a_const = interpolate(a_exp, V)\n",
    "rho = 0.0\n",
    "lambda_ = 1.4\n",
    "alpha = 1e-05\n",
    "r = project(Expression(\"0.01*sqrt(pow(x[0],2) + pow(x[1], 2))\", element=element), V)"
   ]
  },
  {
   "cell_type": "code",
   "execution_count": 10,
   "metadata": {},
   "outputs": [],
   "source": [
    "# --- Initialization ---\n",
    "\n",
    "# State\n",
    "u_0 = Constant(0.7)  # Expression('b*exp(-a*(pow(x[0]-0.25, 2) + pow(x[1]-0.25, 2)))', degree=2, a=10, b=20)\n",
    "u_n = interpolate(u_0, V)\n",
    "\n",
    "# Control\n",
    "str1 = 'b*exp(-a*pow(x[0] - (0.5 - 0.25*sin(3.14*t)), 2) - a*pow(x[1] - (0.5 - 0.25*cos(3.14*t)), 2)) + '\n",
    "str2 = 'b*exp(-a*pow(x[0] - (0.5 + 0.25*sin(3.14*t)), 2) - a*pow(x[1] - (0.5 + 0.25*cos(3.14*t)), 2))'\n",
    "string = str1 + str2\n",
    "\n",
    "q = Constant(1.5)  # Expression(string, degree=2, a=50, b=10, t=0)\n",
    "# q = Expression('sqrt(pow(x[0] - 0.3, 2) + pow(x[1] - 0.4, 2)) <= 0.2 + tol ? a1 : a0', element=element, a0=a0, a1=a1, tol=a_tol)\n",
    "t = 0\n",
    "Q = [interpolate(q, V)]\n",
    "for i in range(num_steps):\n",
    "    t += dt\n",
    "    q.t = t\n",
    "    Q.append(interpolate(q, V))\n",
    "Q = np.asarray(Q)\n",
    "\n",
    "\n",
    "# Adjoint variable\n",
    "p_end = Constant(-1*lambda_)\n",
    "p_n = interpolate(p_end, V)"
   ]
  },
  {
   "cell_type": "code",
   "execution_count": 11,
   "metadata": {},
   "outputs": [
    {
     "name": "stdout",
     "output_type": "stream",
     "text": [
      "Initial objective function value: 10\n",
      "Iteration no. 1\n"
     ]
    },
    {
     "ename": "NameError",
     "evalue": "name 'T' is not defined",
     "output_type": "error",
     "traceback": [
      "\u001b[0;31m---------------------------------------------------------------------------\u001b[0m",
      "\u001b[0;31mNameError\u001b[0m                                 Traceback (most recent call last)",
      "\u001b[0;32m<ipython-input-11-1af6fe769b94>\u001b[0m in \u001b[0;36m<module>\u001b[0;34m\u001b[0m\n\u001b[1;32m     15\u001b[0m     \u001b[0mj_prev\u001b[0m \u001b[0;34m=\u001b[0m \u001b[0mj_curr\u001b[0m\u001b[0;34m\u001b[0m\u001b[0;34m\u001b[0m\u001b[0m\n\u001b[1;32m     16\u001b[0m \u001b[0;34m\u001b[0m\u001b[0m\n\u001b[0;32m---> 17\u001b[0;31m     \u001b[0mU\u001b[0m \u001b[0;34m=\u001b[0m \u001b[0mmodules\u001b[0m\u001b[0;34m.\u001b[0m\u001b[0msolve_state_eq\u001b[0m\u001b[0;34m(\u001b[0m\u001b[0mu_0\u001b[0m\u001b[0;34m,\u001b[0m \u001b[0mQ\u001b[0m\u001b[0;34m,\u001b[0m \u001b[0mV\u001b[0m\u001b[0;34m)\u001b[0m\u001b[0;34m\u001b[0m\u001b[0;34m\u001b[0m\u001b[0m\n\u001b[0m\u001b[1;32m     18\u001b[0m     \u001b[0mP\u001b[0m \u001b[0;34m=\u001b[0m \u001b[0mmodules\u001b[0m\u001b[0;34m.\u001b[0m\u001b[0msolve_adjoint_eq\u001b[0m\u001b[0;34m(\u001b[0m\u001b[0mp_end\u001b[0m\u001b[0;34m,\u001b[0m \u001b[0mU\u001b[0m\u001b[0;34m,\u001b[0m \u001b[0mQ\u001b[0m\u001b[0;34m,\u001b[0m \u001b[0mV\u001b[0m\u001b[0;34m)\u001b[0m\u001b[0;34m\u001b[0m\u001b[0;34m\u001b[0m\u001b[0m\n\u001b[1;32m     19\u001b[0m     \u001b[0mv_k\u001b[0m \u001b[0;34m=\u001b[0m \u001b[0;34m-\u001b[0m\u001b[0;36m1\u001b[0m\u001b[0;34m*\u001b[0m\u001b[0mdj\u001b[0m\u001b[0;34m(\u001b[0m\u001b[0mU\u001b[0m\u001b[0;34m,\u001b[0m \u001b[0mQ\u001b[0m\u001b[0;34m,\u001b[0m \u001b[0mP\u001b[0m\u001b[0;34m)\u001b[0m\u001b[0;34m\u001b[0m\u001b[0;34m\u001b[0m\u001b[0m\n",
      "\u001b[0;32m~/thesis/modules.py\u001b[0m in \u001b[0;36msolve_state_eq\u001b[0;34m(u_0, Q, V)\u001b[0m\n\u001b[1;32m      6\u001b[0m \u001b[0;34m\u001b[0m\u001b[0m\n\u001b[1;32m      7\u001b[0m \u001b[0;32mdef\u001b[0m \u001b[0msolve_state_eq\u001b[0m\u001b[0;34m(\u001b[0m\u001b[0mu_0\u001b[0m\u001b[0;34m,\u001b[0m \u001b[0mQ\u001b[0m\u001b[0;34m,\u001b[0m \u001b[0mV\u001b[0m\u001b[0;34m)\u001b[0m\u001b[0;34m:\u001b[0m\u001b[0;34m\u001b[0m\u001b[0;34m\u001b[0m\u001b[0m\n\u001b[0;32m----> 8\u001b[0;31m     \u001b[0mdt\u001b[0m \u001b[0;34m=\u001b[0m \u001b[0mT\u001b[0m\u001b[0;34m/\u001b[0m\u001b[0mnum_steps\u001b[0m\u001b[0;34m\u001b[0m\u001b[0;34m\u001b[0m\u001b[0m\n\u001b[0m\u001b[1;32m      9\u001b[0m \u001b[0;34m\u001b[0m\u001b[0m\n\u001b[1;32m     10\u001b[0m     \u001b[0;31m# Get initial value\u001b[0m\u001b[0;34m\u001b[0m\u001b[0;34m\u001b[0m\u001b[0;34m\u001b[0m\u001b[0m\n",
      "\u001b[0;31mNameError\u001b[0m: name 'T' is not defined"
     ]
    }
   ],
   "source": [
    "# --- Projected gradient loop ---\n",
    "tol = 1e-02\n",
    "v_k = 1\n",
    "v_k_norm = 1\n",
    "\n",
    "j_prev = 0\n",
    "j_curr = 10\n",
    "\n",
    "print(\"Initial objective function value: {}\".format(j_curr))\n",
    "\n",
    "it = 1\n",
    "while v_k_norm > tol:\n",
    "    print(\"Iteration no. {}\".format(it))\n",
    "    it += 1\n",
    "    j_prev = j_curr\n",
    "    \n",
    "    U = modules.solve_state_eq(u_0, Q, V)\n",
    "    P = modules.solve_adjoint_eq(p_end, U, Q, V)\n",
    "    v_k = -1*dj(U, Q, P)\n",
    "    [s_k, j_curr] = armijo(v_k, U, Q, P)\n",
    "    \n",
    "    Q = Q + s_k*v_k\n",
    "    Q = project_to_admissible(Q, q_min, q_max, V)\n",
    "    \n",
    "    v_k_norm = grad_norm(v_k, V, T, num_steps)\n",
    "    print(\"Step length found: s_k = {}\".format(float(s_k)))\n",
    "    print(\"New function value: j_curr = {}\".format(j_curr))\n",
    "    print(\"Decrease in function value: j_prev - j_curr = {}\".format(j_prev - j_curr))\n",
    "    print(\"Norm of gradient: {}\".format(v_k_norm))\n",
    "    print(\"\\n\")"
   ]
  },
  {
   "cell_type": "code",
   "execution_count": null,
   "metadata": {},
   "outputs": [],
   "source": []
  }
 ],
 "metadata": {
  "kernelspec": {
   "display_name": "Python 3",
   "language": "python",
   "name": "python3"
  },
  "language_info": {
   "codemirror_mode": {
    "name": "ipython",
    "version": 3
   },
   "file_extension": ".py",
   "mimetype": "text/x-python",
   "name": "python",
   "nbconvert_exporter": "python",
   "pygments_lexer": "ipython3",
   "version": "3.7.3"
  }
 },
 "nbformat": 4,
 "nbformat_minor": 4
}
