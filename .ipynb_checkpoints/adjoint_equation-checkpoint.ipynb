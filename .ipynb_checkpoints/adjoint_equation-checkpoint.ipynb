{
 "cells": [
  {
   "cell_type": "code",
   "execution_count": 2,
   "metadata": {},
   "outputs": [],
   "source": [
    "%matplotlib inline"
   ]
  },
  {
   "cell_type": "code",
   "execution_count": 3,
   "metadata": {},
   "outputs": [],
   "source": [
    "from fenics import *\n",
    "import numpy as np\n",
    "from matplotlib import pyplot as plt\n",
    "from mpl_toolkits.axes_grid1 import make_axes_locatable"
   ]
  },
  {
   "cell_type": "code",
   "execution_count": null,
   "metadata": {},
   "outputs": [
    {
     "name": "stdout",
     "output_type": "stream",
     "text": [
      "Calling FFC just-in-time (JIT) compiler, this may take some time.\n"
     ]
    }
   ],
   "source": [
    "# \"Global params\"\n",
    "lambda_ = 10\n",
    "rho = 5\n",
    "u = Expression('b*exp(-a*(pow(x[0]-0.25, 2) + pow(x[1]-0.25, 2)))', degree=2, a=10, b=20)\n",
    "\n",
    "# Set time parameters\n",
    "T = 2.0\n",
    "num_steps = 100\n",
    "dt = T/num_steps\n",
    "t = T\n",
    "\n",
    "# Define function space\n",
    "nx = 50\n",
    "ny = 50\n",
    "mesh = UnitSquareMesh(nx,ny)\n",
    "V = FunctionSpace(mesh, 'P', 1)\n",
    "\n",
    "# Specify end time condition for adjoint variable\n",
    "p_end = Constant(-1*lambda_)\n",
    "p_n = interpolate(p_end, V)\n",
    "\n",
    "# Define growth threshold and control\n",
    "a = Constant(10)\n",
    "# q = Constant(5)\n",
    "str1 = 'b*exp(-a*pow(x[0] - (0.5 - 0.25*sin(3.14*t)), 2) - a*pow(x[1] - (0.5 - 0.25*cos(3.14*t)), 2)) + '\n",
    "str2 = 'b*exp(-a*pow(x[0] - (0.5 + 0.25*sin(3.14*t)), 2) - a*pow(x[1] - (0.5 + 0.25*cos(3.14*t)), 2))'\n",
    "string = str1 + str2\n",
    "q = Expression(string, degree=2, a=50, b=10, t=0)\n",
    "q_n = interpolate(q, V)\n",
    "\n",
    "# Define variational problem\n",
    "p = TrialFunction(V)\n",
    "phi = TestFunction(V)\n",
    "\n",
    "a = p*phi*dx + dt*(dot(grad(p), grad(phi)) + p*(2*u-a+q)*phi)*dx\n",
    "l = p_n*phi*dx - dt*exp(-1*rho*t)*q*phi*dx\n",
    "\n",
    "# Iterating in time\n",
    "p = Function(V)\n",
    "\n",
    "for i in range(num_steps):\n",
    "    t -= dt\n",
    "    q.t = t\n",
    "    \n",
    "    solve(a == l, p)\n",
    "    p_n.assign(p)\n",
    "    \n",
    "    # Plot\n",
    "    if i%20 == 0:\n",
    "        pp = plot(p)\n",
    "        plt.colorbar(pp)\n",
    "        plt.show()\n",
    "        \n",
    "print(\"done\")"
   ]
  }
 ],
 "metadata": {
  "kernelspec": {
   "display_name": "Python 3",
   "language": "python",
   "name": "python3"
  },
  "language_info": {
   "codemirror_mode": {
    "name": "ipython",
    "version": 3
   },
   "file_extension": ".py",
   "mimetype": "text/x-python",
   "name": "python",
   "nbconvert_exporter": "python",
   "pygments_lexer": "ipython3",
   "version": "3.7.3"
  }
 },
 "nbformat": 4,
 "nbformat_minor": 4
}
