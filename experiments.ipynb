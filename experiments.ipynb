{
 "cells": [
  {
   "cell_type": "code",
   "execution_count": 1,
   "metadata": {},
   "outputs": [],
   "source": [
    "from fenics import *\n",
    "import numpy as np"
   ]
  },
  {
   "cell_type": "code",
   "execution_count": 8,
   "metadata": {},
   "outputs": [
    {
     "name": "stdout",
     "output_type": "stream",
     "text": [
      "0\n",
      "99\n",
      "1.9800673400673392\n",
      "1.9800673400673399\n"
     ]
    }
   ],
   "source": [
    "nx = 64\n",
    "ny = 64\n",
    "mesh = UnitSquareMesh(nx, ny)\n",
    "V = FunctionSpace(mesh, 'P', 1)\n",
    "\n",
    "a = 0.0\n",
    "b = 2.0\n",
    "n = 100\n",
    "h = (b-a)/n\n",
    "\n",
    "t = np.linspace(a, b, n)\n",
    "f = Expression('t*x[0]*x[0] + t*t*x[1]', degree=2, t = 0)\n",
    "\n",
    "Ivec = []\n",
    "\n",
    "I = 0\n",
    "for i in range(len(t)):\n",
    "    f.t = t[i]\n",
    "    int_ = assemble(f*dx(mesh))\n",
    "    Ivec.append(int_)\n",
    "    if i == 0 or i == len(t)-1:\n",
    "        int_ *= 0.5\n",
    "        print(i)\n",
    "    I += int_\n",
    "    \n",
    "I *= h\n",
    "    \n",
    "print(I)\n",
    "print(np.trapz(Ivec, dx = h))"
   ]
  },
  {
   "cell_type": "code",
   "execution_count": 13,
   "metadata": {},
   "outputs": [
    {
     "data": {
      "text/plain": [
       "[<matplotlib.lines.Line2D at 0x114f136d8>,\n",
       " <matplotlib.lines.Line2D at 0x114f13d30>]"
      ]
     },
     "execution_count": 13,
     "metadata": {},
     "output_type": "execute_result"
    },
    {
     "data": {
      "image/png": "[encoded data removed]",
      "text/plain": [
       "<Figure size 432x288 with 1 Axes>"
      ]
     },
     "metadata": {
      "needs_background": "light"
     },
     "output_type": "display_data"
    }
   ],
   "source": [
    "plot(mesh)"
   ]
  },
  {
   "cell_type": "code",
   "execution_count": null,
   "metadata": {},
   "outputs": [],
   "source": []
  }
 ],
 "metadata": {
  "kernelspec": {
   "display_name": "Python 3",
   "language": "python",
   "name": "python3"
  },
  "language_info": {
   "codemirror_mode": {
    "name": "ipython",
    "version": 3
   },
   "file_extension": ".py",
   "mimetype": "text/x-python",
   "name": "python",
   "nbconvert_exporter": "python",
   "pygments_lexer": "ipython3",
   "version": "3.7.3"
  }
 },
 "nbformat": 4,
 "nbformat_minor": 4
}
